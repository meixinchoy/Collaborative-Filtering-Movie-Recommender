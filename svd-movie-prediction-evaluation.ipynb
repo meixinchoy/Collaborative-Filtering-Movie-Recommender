{
 "cells": [
  {
   "cell_type": "code",
   "execution_count": 1,
   "metadata": {
    "_cell_guid": "52ad505c-a20e-4433-b4aa-2c131f57d44b",
    "_uuid": "107f8e31-cf57-4839-86f4-5124c7895c93",
    "collapsed": false,
    "execution": {
     "iopub.execute_input": "2021-08-30T14:30:10.515535Z",
     "iopub.status.busy": "2021-08-30T14:30:10.514819Z",
     "iopub.status.idle": "2021-08-30T14:30:11.635832Z",
     "shell.execute_reply": "2021-08-30T14:30:11.636374Z",
     "shell.execute_reply.started": "2021-08-29T06:24:44.572108Z"
    },
    "jupyter": {
     "outputs_hidden": false
    },
    "papermill": {
     "duration": 1.140148,
     "end_time": "2021-08-30T14:30:11.636681",
     "exception": false,
     "start_time": "2021-08-30T14:30:10.496533",
     "status": "completed"
    },
    "tags": []
   },
   "outputs": [
    {
     "data": {
      "text/html": [
       "<div>\n",
       "<style scoped>\n",
       "    .dataframe tbody tr th:only-of-type {\n",
       "        vertical-align: middle;\n",
       "    }\n",
       "\n",
       "    .dataframe tbody tr th {\n",
       "        vertical-align: top;\n",
       "    }\n",
       "\n",
       "    .dataframe thead th {\n",
       "        text-align: right;\n",
       "    }\n",
       "</style>\n",
       "<table border=\"1\" class=\"dataframe\">\n",
       "  <thead>\n",
       "    <tr style=\"text-align: right;\">\n",
       "      <th></th>\n",
       "      <th>userId</th>\n",
       "      <th>movieId</th>\n",
       "      <th>rating</th>\n",
       "    </tr>\n",
       "  </thead>\n",
       "  <tbody>\n",
       "    <tr>\n",
       "      <th>0</th>\n",
       "      <td>1</td>\n",
       "      <td>31</td>\n",
       "      <td>2.5</td>\n",
       "    </tr>\n",
       "    <tr>\n",
       "      <th>1</th>\n",
       "      <td>1</td>\n",
       "      <td>1029</td>\n",
       "      <td>3.0</td>\n",
       "    </tr>\n",
       "    <tr>\n",
       "      <th>2</th>\n",
       "      <td>1</td>\n",
       "      <td>1061</td>\n",
       "      <td>3.0</td>\n",
       "    </tr>\n",
       "    <tr>\n",
       "      <th>3</th>\n",
       "      <td>1</td>\n",
       "      <td>1129</td>\n",
       "      <td>2.0</td>\n",
       "    </tr>\n",
       "    <tr>\n",
       "      <th>4</th>\n",
       "      <td>1</td>\n",
       "      <td>1172</td>\n",
       "      <td>4.0</td>\n",
       "    </tr>\n",
       "  </tbody>\n",
       "</table>\n",
       "</div>"
      ],
      "text/plain": [
       "   userId  movieId  rating\n",
       "0       1       31     2.5\n",
       "1       1     1029     3.0\n",
       "2       1     1061     3.0\n",
       "3       1     1129     2.0\n",
       "4       1     1172     4.0"
      ]
     },
     "execution_count": 1,
     "metadata": {},
     "output_type": "execute_result"
    }
   ],
   "source": [
    "import pandas as pd\n",
    "import numpy as np\n",
    "import surprise\n",
    "from sklearn.model_selection import train_test_split\n",
    "import seaborn as sns\n",
    "import matplotlib.pyplot as plt\n",
    "\n",
    "df_ratings = pd.read_csv('../input/the-movies-dataset/ratings_small.csv')\n",
    "\n",
    "# remove irrelevant column\n",
    "df_ratings.drop(['timestamp'], axis=1,inplace=True)\n",
    "\n",
    "df_ratings.head()"
   ]
  },
  {
   "cell_type": "code",
   "execution_count": 2,
   "metadata": {
    "_cell_guid": "c31e263a-4f75-4fe5-afe0-8be6e7a473c2",
    "_uuid": "c5059d5b-a3e8-49a2-9976-f06be4e6936d",
    "collapsed": false,
    "execution": {
     "iopub.execute_input": "2021-08-30T14:30:11.666883Z",
     "iopub.status.busy": "2021-08-30T14:30:11.665880Z",
     "iopub.status.idle": "2021-08-30T14:30:11.674201Z",
     "shell.execute_reply": "2021-08-30T14:30:11.673709Z",
     "shell.execute_reply.started": "2021-08-29T06:24:45.913324Z"
    },
    "jupyter": {
     "outputs_hidden": false
    },
    "papermill": {
     "duration": 0.025849,
     "end_time": "2021-08-30T14:30:11.674342",
     "exception": false,
     "start_time": "2021-08-30T14:30:11.648493",
     "status": "completed"
    },
    "tags": []
   },
   "outputs": [
    {
     "data": {
      "text/plain": [
       "4.0    28750\n",
       "3.0    20064\n",
       "5.0    15095\n",
       "3.5    10538\n",
       "4.5     7723\n",
       "2.0     7271\n",
       "2.5     4449\n",
       "1.0     3326\n",
       "1.5     1687\n",
       "0.5     1101\n",
       "Name: rating, dtype: int64"
      ]
     },
     "execution_count": 2,
     "metadata": {},
     "output_type": "execute_result"
    }
   ],
   "source": [
    "df_ratings.rating.value_counts()"
   ]
  },
  {
   "cell_type": "code",
   "execution_count": 3,
   "metadata": {
    "_cell_guid": "d6620a27-50bc-4422-aba8-de9c38b7b287",
    "_uuid": "f2486e74-fde3-438d-be60-b6a98ec39de5",
    "collapsed": false,
    "execution": {
     "iopub.execute_input": "2021-08-30T14:30:11.703530Z",
     "iopub.status.busy": "2021-08-30T14:30:11.702647Z",
     "iopub.status.idle": "2021-08-30T14:30:11.960072Z",
     "shell.execute_reply": "2021-08-30T14:30:11.960538Z",
     "shell.execute_reply.started": "2021-08-29T06:24:45.929179Z"
    },
    "jupyter": {
     "outputs_hidden": false
    },
    "papermill": {
     "duration": 0.274705,
     "end_time": "2021-08-30T14:30:11.960709",
     "exception": false,
     "start_time": "2021-08-30T14:30:11.686004",
     "status": "completed"
    },
    "tags": []
   },
   "outputs": [
    {
     "data": {
      "image/png": "[encoded data removed]",
      "text/plain": [
       "<Figure size 432x288 with 1 Axes>"
      ]
     },
     "metadata": {
      "needs_background": "light"
     },
     "output_type": "display_data"
    }
   ],
   "source": [
    "rdata =df_ratings.rating.value_counts()\n",
    "x=list(rdata.keys())\n",
    "y=list(rdata)\n",
    "plt.bar(x,y,width = 0.4)\n",
    "plt.xticks(np.arange(0.5, 5.5, step=0.5))\n",
    "plt.show()"
   ]
  },
  {
   "cell_type": "code",
   "execution_count": 4,
   "metadata": {
    "_cell_guid": "522d15b1-4ba9-408c-a758-75fce210ac4d",
    "_uuid": "3e6ba577-1845-438f-8bd6-fc4081a68068",
    "collapsed": false,
    "execution": {
     "iopub.execute_input": "2021-08-30T14:30:11.991168Z",
     "iopub.status.busy": "2021-08-30T14:30:11.990580Z",
     "iopub.status.idle": "2021-08-30T14:30:12.004464Z",
     "shell.execute_reply": "2021-08-30T14:30:12.003928Z",
     "shell.execute_reply.started": "2021-08-29T06:24:46.21883Z"
    },
    "jupyter": {
     "outputs_hidden": false
    },
    "papermill": {
     "duration": 0.031674,
     "end_time": "2021-08-30T14:30:12.004617",
     "exception": false,
     "start_time": "2021-08-30T14:30:11.972943",
     "status": "completed"
    },
    "tags": []
   },
   "outputs": [
    {
     "name": "stdout",
     "output_type": "stream",
     "text": [
      "<class 'pandas.core.frame.DataFrame'>\n",
      "RangeIndex: 100004 entries, 0 to 100003\n",
      "Data columns (total 3 columns):\n",
      " #   Column   Non-Null Count   Dtype  \n",
      "---  ------   --------------   -----  \n",
      " 0   userId   100004 non-null  int64  \n",
      " 1   movieId  100004 non-null  int64  \n",
      " 2   rating   100004 non-null  float64\n",
      "dtypes: float64(1), int64(2)\n",
      "memory usage: 2.3 MB\n"
     ]
    }
   ],
   "source": [
    "df_ratings.info()"
   ]
  },
  {
   "cell_type": "code",
   "execution_count": 5,
   "metadata": {
    "_cell_guid": "73fb9129-a128-457b-b52a-1e5d99cd5ec0",
    "_uuid": "d98b0752-abe1-4641-a8ea-25d4801820e5",
    "collapsed": false,
    "execution": {
     "iopub.execute_input": "2021-08-30T14:30:12.035179Z",
     "iopub.status.busy": "2021-08-30T14:30:12.034535Z",
     "iopub.status.idle": "2021-08-30T14:30:12.041346Z",
     "shell.execute_reply": "2021-08-30T14:30:12.041877Z",
     "shell.execute_reply.started": "2021-08-29T06:24:46.239141Z"
    },
    "jupyter": {
     "outputs_hidden": false
    },
    "papermill": {
     "duration": 0.024868,
     "end_time": "2021-08-30T14:30:12.042069",
     "exception": false,
     "start_time": "2021-08-30T14:30:12.017201",
     "status": "completed"
    },
    "tags": []
   },
   "outputs": [
    {
     "data": {
      "text/plain": [
       "userId     0\n",
       "movieId    0\n",
       "rating     0\n",
       "dtype: int64"
      ]
     },
     "execution_count": 5,
     "metadata": {},
     "output_type": "execute_result"
    }
   ],
   "source": [
    "df_ratings.isnull().sum()"
   ]
  },
  {
   "cell_type": "code",
   "execution_count": 6,
   "metadata": {
    "_cell_guid": "707abaab-985f-43fd-a7ef-256d49ca132a",
    "_uuid": "82df0016-eb1e-466c-87e3-c8966e14875d",
    "collapsed": false,
    "execution": {
     "iopub.execute_input": "2021-08-30T14:30:12.076774Z",
     "iopub.status.busy": "2021-08-30T14:30:12.076077Z",
     "iopub.status.idle": "2021-08-30T14:30:12.227691Z",
     "shell.execute_reply": "2021-08-30T14:30:12.227149Z",
     "shell.execute_reply.started": "2021-08-29T06:24:46.25081Z"
    },
    "jupyter": {
     "outputs_hidden": false
    },
    "papermill": {
     "duration": 0.172711,
     "end_time": "2021-08-30T14:30:12.227847",
     "exception": false,
     "start_time": "2021-08-30T14:30:12.055136",
     "status": "completed"
    },
    "tags": []
   },
   "outputs": [],
   "source": [
    "#swapping columns\n",
    "df_ratings=df_ratings[['userId','movieId','rating']] \n",
    "df_ratings.columns = ['n_users','n_items','rating']\n",
    "\n",
    "train,test = train_test_split(df_ratings, test_size=0.25 )\n",
    "\n",
    "reader = surprise.Reader(rating_scale=(0.5,5)) \n",
    "\n",
    "#into surprise:\n",
    "data = surprise.Dataset.load_from_df(train,reader)\n",
    "test = surprise.Dataset.load_from_df(test,reader)"
   ]
  },
  {
   "cell_type": "code",
   "execution_count": 7,
   "metadata": {
    "execution": {
     "iopub.execute_input": "2021-08-30T14:30:12.258858Z",
     "iopub.status.busy": "2021-08-30T14:30:12.258273Z",
     "iopub.status.idle": "2021-08-30T14:30:12.261336Z",
     "shell.execute_reply": "2021-08-30T14:30:12.260673Z",
     "shell.execute_reply.started": "2021-08-29T06:24:46.423865Z"
    },
    "papermill": {
     "duration": 0.020464,
     "end_time": "2021-08-30T14:30:12.261482",
     "exception": false,
     "start_time": "2021-08-30T14:30:12.241018",
     "status": "completed"
    },
    "tags": []
   },
   "outputs": [],
   "source": [
    "# split data into folds. \n",
    "kSplit = surprise.model_selection.split.KFold(n_splits=10, shuffle=True) "
   ]
  },
  {
   "cell_type": "code",
   "execution_count": 8,
   "metadata": {
    "_cell_guid": "84a7bfcd-276f-417c-9c09-45faa976f7f3",
    "_uuid": "bfe13eb6-bdd1-4787-bf9c-c3dbdcdb303e",
    "collapsed": false,
    "execution": {
     "iopub.execute_input": "2021-08-30T14:30:12.291157Z",
     "iopub.status.busy": "2021-08-30T14:30:12.290544Z",
     "iopub.status.idle": "2021-08-30T14:30:12.293704Z",
     "shell.execute_reply": "2021-08-30T14:30:12.293222Z",
     "shell.execute_reply.started": "2021-08-29T06:24:46.431074Z"
    },
    "jupyter": {
     "outputs_hidden": false
    },
    "papermill": {
     "duration": 0.020038,
     "end_time": "2021-08-30T14:30:12.293850",
     "exception": false,
     "start_time": "2021-08-30T14:30:12.273812",
     "status": "completed"
    },
    "tags": []
   },
   "outputs": [],
   "source": [
    "method = surprise.SVD(random_state=0)"
   ]
  },
  {
   "cell_type": "code",
   "execution_count": 9,
   "metadata": {
    "execution": {
     "iopub.execute_input": "2021-08-30T14:30:12.324066Z",
     "iopub.status.busy": "2021-08-30T14:30:12.323514Z",
     "iopub.status.idle": "2021-08-30T14:31:25.111710Z",
     "shell.execute_reply": "2021-08-30T14:31:25.112214Z",
     "shell.execute_reply.started": "2021-08-29T06:24:46.443447Z"
    },
    "papermill": {
     "duration": 72.80595,
     "end_time": "2021-08-30T14:31:25.112390",
     "exception": false,
     "start_time": "2021-08-30T14:30:12.306440",
     "status": "completed"
    },
    "tags": []
   },
   "outputs": [
    {
     "name": "stdout",
     "output_type": "stream",
     "text": [
      "\n",
      "fold  1 \n",
      "========\n",
      "RMSE: 0.9093\n",
      "\n",
      "fold  2 \n",
      "========\n",
      "RMSE: 0.8942\n",
      "\n",
      "fold  3 \n",
      "========\n",
      "RMSE: 0.8892\n",
      "\n",
      "fold  4 \n",
      "========\n",
      "RMSE: 0.9168\n",
      "\n",
      "fold  5 \n",
      "========\n",
      "RMSE: 0.9023\n",
      "\n",
      "fold  6 \n",
      "========\n",
      "RMSE: 0.8940\n",
      "\n",
      "fold  7 \n",
      "========\n",
      "RMSE: 0.8981\n",
      "\n",
      "fold  8 \n",
      "========\n",
      "RMSE: 0.9104\n",
      "\n",
      "fold  9 \n",
      "========\n",
      "RMSE: 0.9031\n",
      "\n",
      "fold  10 \n",
      "========\n",
      "RMSE: 0.8965\n"
     ]
    }
   ],
   "source": [
    "rmseSVD = []\n",
    "i=0\n",
    "for trainset, testset in kSplit.split(data): #iterate through the folds.\n",
    "    method.fit(trainset)\n",
    "    predictionsSVD = method.test(testset)\n",
    "    i+=1\n",
    "    print(\"\\nfold \",i,\"\\n========\")\n",
    "    rmseSVD.append(surprise.accuracy.rmse(predictionsSVD,verbose=True))#get root means squared error"
   ]
  },
  {
   "cell_type": "code",
   "execution_count": 10,
   "metadata": {
    "_cell_guid": "ced6696e-e995-42e0-bec6-e138b9ba6132",
    "_uuid": "5107a9e7-91e2-432a-ba2a-8b519cee7dcc",
    "collapsed": false,
    "execution": {
     "iopub.execute_input": "2021-08-30T14:31:25.166715Z",
     "iopub.status.busy": "2021-08-30T14:31:25.165752Z",
     "iopub.status.idle": "2021-08-30T14:31:25.302462Z",
     "shell.execute_reply": "2021-08-30T14:31:25.301912Z",
     "shell.execute_reply.started": "2021-08-29T06:26:01.33612Z"
    },
    "jupyter": {
     "outputs_hidden": false
    },
    "papermill": {
     "duration": 0.174089,
     "end_time": "2021-08-30T14:31:25.302613",
     "exception": false,
     "start_time": "2021-08-30T14:31:25.128524",
     "status": "completed"
    },
    "tags": []
   },
   "outputs": [
    {
     "data": {
      "text/plain": [
       "<matplotlib.legend.Legend at 0x7f250806f810>"
      ]
     },
     "execution_count": 10,
     "metadata": {},
     "output_type": "execute_result"
    },
    {
     "data": {
      "image/png": "[encoded data removed]",
      "text/plain": [
       "<Figure size 432x288 with 1 Axes>"
      ]
     },
     "metadata": {
      "needs_background": "light"
     },
     "output_type": "display_data"
    }
   ],
   "source": [
    "#plotting the prediction data:\n",
    "import matplotlib.pyplot as plt\n",
    "modelPrediction = plt.plot(rmseSVD,label='rmse')\n",
    "\n",
    "modelPrediction = plt.xlabel('folds')\n",
    "modelPrediction = plt.ylabel('accuracy')\n",
    "plt.legend(bbox_to_anchor=(1.05, 1), loc=2)"
   ]
  },
  {
   "cell_type": "code",
   "execution_count": 11,
   "metadata": {
    "execution": {
     "iopub.execute_input": "2021-08-30T14:31:25.344286Z",
     "iopub.status.busy": "2021-08-30T14:31:25.343360Z",
     "iopub.status.idle": "2021-08-30T14:31:25.346772Z",
     "shell.execute_reply": "2021-08-30T14:31:25.347315Z",
     "shell.execute_reply.started": "2021-08-29T06:26:01.500609Z"
    },
    "papermill": {
     "duration": 0.027074,
     "end_time": "2021-08-30T14:31:25.347488",
     "exception": false,
     "start_time": "2021-08-30T14:31:25.320414",
     "status": "completed"
    },
    "tags": []
   },
   "outputs": [
    {
     "name": "stdout",
     "output_type": "stream",
     "text": [
      "Average RMSE:  0.9013918588000187\n"
     ]
    }
   ],
   "source": [
    "print(\"Average RMSE: \",sum(rmseSVD) / len(rmseSVD))"
   ]
  },
  {
   "cell_type": "code",
   "execution_count": 12,
   "metadata": {
    "execution": {
     "iopub.execute_input": "2021-08-30T14:31:25.410064Z",
     "iopub.status.busy": "2021-08-30T14:31:25.404839Z",
     "iopub.status.idle": "2021-08-30T14:32:19.979791Z",
     "shell.execute_reply": "2021-08-30T14:32:19.980802Z",
     "shell.execute_reply.started": "2021-08-29T06:26:01.508469Z"
    },
    "papermill": {
     "duration": 54.615665,
     "end_time": "2021-08-30T14:32:19.981085",
     "exception": false,
     "start_time": "2021-08-30T14:31:25.365420",
     "status": "completed"
    },
    "tags": []
   },
   "outputs": [
    {
     "name": "stdout",
     "output_type": "stream",
     "text": [
      "0.9206080330220536\n",
      "{'n_epochs': 10, 'lr_all': 0.005, 'reg_all': 0.4}\n"
     ]
    }
   ],
   "source": [
    "from surprise import SVD\n",
    "from surprise import Dataset\n",
    "from surprise.model_selection import GridSearchCV\n",
    "\n",
    "param_grid = {'n_epochs': [5, 10], 'lr_all': [0.002, 0.005],\n",
    "              'reg_all': [0.4, 0.6]}\n",
    "gs = GridSearchCV(SVD, param_grid, measures=['rmse'], cv=3)\n",
    "\n",
    "gs.fit(data)\n",
    "\n",
    "# best RMSE score\n",
    "print(gs.best_score['rmse'])\n",
    "\n",
    "# combination of parameters that gave the best RMSE score\n",
    "print(gs.best_params['rmse'])"
   ]
  },
  {
   "cell_type": "code",
   "execution_count": null,
   "metadata": {
    "papermill": {
     "duration": 0.017375,
     "end_time": "2021-08-30T14:32:20.017288",
     "exception": false,
     "start_time": "2021-08-30T14:32:19.999913",
     "status": "completed"
    },
    "tags": []
   },
   "outputs": [],
   "source": []
  }
 ],
 "metadata": {
  "kernelspec": {
   "display_name": "Python 3",
   "language": "python",
   "name": "python3"
  },
  "language_info": {
   "codemirror_mode": {
    "name": "ipython",
    "version": 3
   },
   "file_extension": ".py",
   "mimetype": "text/x-python",
   "name": "python",
   "nbconvert_exporter": "python",
   "pygments_lexer": "ipython3",
   "version": "3.7.9"
  },
  "papermill": {
   "default_parameters": {},
   "duration": 135.596457,
   "end_time": "2021-08-30T14:32:20.745317",
   "environment_variables": {},
   "exception": null,
   "input_path": "__notebook__.ipynb",
   "output_path": "__notebook__.ipynb",
   "parameters": {},
   "start_time": "2021-08-30T14:30:05.148860",
   "version": "2.2.2"
  }
 },
 "nbformat": 4,
 "nbformat_minor": 4
}
